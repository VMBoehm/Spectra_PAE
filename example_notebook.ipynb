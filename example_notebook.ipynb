{
 "cells": [
  {
   "cell_type": "markdown",
   "id": "dfeef1a9-60b7-45d5-af85-3aef8c6ef9f6",
   "metadata": {},
   "source": [
    "## Train a PAE on labeled galaxy spectra"
   ]
  },
  {
   "cell_type": "code",
   "execution_count": 1,
   "id": "d347b3dc-dd10-40fc-8e32-5dd887a39d18",
   "metadata": {},
   "outputs": [],
   "source": [
    "import numpy as np\n",
    "import pandas as pd\n",
    "import torch\n",
    "from pathlib import Path\n",
    "from spectra_pae.spectra_pae import *"
   ]
  },
  {
   "cell_type": "markdown",
   "id": "ac3daa61-2641-4547-a59b-a0633c22ff72",
   "metadata": {},
   "source": [
    "Note: To fully understand what this code is doing under the hood, you need to read the paper, look at the Spectra_PAE class and the PytorchPAE package with the Autoencoder class. All of these are well documented."
   ]
  },
  {
   "cell_type": "markdown",
   "id": "3f11a332-2c4c-4868-a118-2f2d277a450d",
   "metadata": {},
   "source": [
    "### set parameters"
   ]
  },
  {
   "cell_type": "code",
   "execution_count": 2,
   "id": "b48d8a77-9eaf-4d6f-8c4a-eb3c9ecb2f47",
   "metadata": {},
   "outputs": [],
   "source": [
    "SEED               = 287505\n",
    "\n",
    "## dataset name (if you want to add a new dataset, it must be added to the the PytorchPAE package in custom_datasets.py) \n",
    "dataset_name       = 'SDSS_DR16'\n",
    "# dataset directory\n",
    "data_dir           = '/global/cscratch1/sd/vboehm/Datasets/sdss/by_model'\n",
    "# directory for saving trained models \n",
    "model_dir          = '/global/cscratch1/sd/vboehm/SDSSOutlier/fc'\n",
    "# dimensionality of the input data \n",
    "input_dim          = (1000,1)"
   ]
  },
  {
   "cell_type": "markdown",
   "id": "08ad9492-a9c2-4c04-98b8-b3f0623836cd",
   "metadata": {},
   "source": [
    "### initiate the class"
   ]
  },
  {
   "cell_type": "code",
   "execution_count": 3,
   "id": "2d1e6108-34f5-4ae4-ad05-e9bc035df1ec",
   "metadata": {},
   "outputs": [],
   "source": [
    "# all functionalities are described in the class documentation \n",
    "SPAE = Spectra_PAE(data_dir, model_dir, dataset_name='SDSS_DR16', input_dim=input_dim)"
   ]
  },
  {
   "cell_type": "markdown",
   "id": "fc106dde-b433-4824-b082-8df13a8f0268",
   "metadata": {},
   "source": [
    "### Train the full model. This goes through all training steps described in the publication"
   ]
  },
  {
   "cell_type": "code",
   "execution_count": 4,
   "id": "74cc3b9d-a4ad-41b2-8665-8599819d4636",
   "metadata": {},
   "outputs": [
    {
     "name": "stdout",
     "output_type": "stream",
     "text": [
      "training AE stage 1...\n",
      "AE stage 1 training completed.\n",
      "evaluating AE stage 1 train...\n",
      "evaluating AE stage 1 valid...\n",
      "evaluating AE stage 1 test...\n",
      "training AE stage 2...\n",
      "AE stage 2 training completed.\n",
      "evaluating AE stage 2 train...\n",
      "evaluating AE stage 2 valid...\n",
      "evaluating AE stage 2 test...\n",
      "loading trained NF1...\n",
      "computing prior probabilities...\n",
      "classifying...\n",
      "classifying...\n",
      "classifying...\n",
      "loading trained NF2...\n"
     ]
    }
   ],
   "source": [
    "SPAE.train_complete_model(nepochs=100, use_prior=True)"
   ]
  },
  {
   "cell_type": "markdown",
   "id": "21babe34-2084-4517-afc0-54f8c21aa92d",
   "metadata": {},
   "source": [
    "### get log probability of all spectra in the combined validation set under the most likely label"
   ]
  },
  {
   "cell_type": "code",
   "execution_count": 7,
   "id": "f98c7fb2-a189-4642-80f2-8dbc89afc399",
   "metadata": {},
   "outputs": [],
   "source": [
    "## the initial dataset is divided into training, validation and test set. However, I combine validation and test set into one dataset in the publication.\n",
    "## the data I'm sharing is actually: training set = training set, validation set = validation + test set, test set = test set. \n",
    "## You can recover the original split between validation and test set from this. \n",
    "logps = SPAE.evaluate_NF2(SPAE.NF1_data['valid'],SPAE.new_labels['valid'])"
   ]
  },
  {
   "cell_type": "markdown",
   "id": "2af2c01c-031d-4b3e-8d8d-ddea855318eb",
   "metadata": {},
   "source": [
    "### evaluate the rank (in terms of percentile) of a single spectrum with respect to a reference sample.\n"
   ]
  },
  {
   "cell_type": "code",
   "execution_count": 8,
   "id": "bd60b27d-f30e-4b7e-af56-7c7af98f9989",
   "metadata": {},
   "outputs": [],
   "source": [
    "# note that I'm not using the training set as a reference sample here. This is to avoid biases from potential overfitting. \n",
    "# In the training I do not penalize overfitting as long as the validation loss keeps improving. Early stopping is based on the validation loss not improving, not the training loss!\n",
    "rank = SPAE.evaluate_logp_percentile(SPAE.NF1_data['valid'],SPAE.labels['valid'], SPAE.NF1_data['valid'][0:1],SPAE.labels['valid'][0:1])"
   ]
  },
  {
   "cell_type": "code",
   "execution_count": null,
   "id": "9513fe6d-a3b8-4afe-8ff2-896687ab870b",
   "metadata": {},
   "outputs": [],
   "source": []
  }
 ],
 "metadata": {
  "kernelspec": {
   "display_name": "pytorch",
   "language": "python",
   "name": "pytorch"
  },
  "language_info": {
   "codemirror_mode": {
    "name": "ipython",
    "version": 3
   },
   "file_extension": ".py",
   "mimetype": "text/x-python",
   "name": "python",
   "nbconvert_exporter": "python",
   "pygments_lexer": "ipython3",
   "version": "3.7.13"
  }
 },
 "nbformat": 4,
 "nbformat_minor": 5
}
